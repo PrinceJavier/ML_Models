{
 "cells": [
  {
   "cell_type": "markdown",
   "metadata": {},
   "source": [
    "## Feed-forward NN Regressor"
   ]
  },
  {
   "cell_type": "code",
   "execution_count": 1,
   "metadata": {
    "ExecuteTime": {
     "end_time": "2018-10-25T06:48:18.269315Z",
     "start_time": "2018-10-25T06:48:11.573639Z"
    }
   },
   "outputs": [],
   "source": [
    "import numpy as np\n",
    "import matplotlib.pyplot as plt\n",
    "import pandas as pd\n",
    "from sklearn.model_selection import train_test_split\n",
    "%matplotlib inline"
   ]
  },
  {
   "cell_type": "code",
   "execution_count": 2,
   "metadata": {
    "ExecuteTime": {
     "end_time": "2018-10-25T06:48:18.605524Z",
     "start_time": "2018-10-25T06:48:18.271855Z"
    }
   },
   "outputs": [
    {
     "name": "stderr",
     "output_type": "stream",
     "text": [
      "/Users/fernandojavier/anaconda3/lib/python3.6/site-packages/pandas/io/excel.py:329: FutureWarning: The `sheetname` keyword is deprecated, use `sheet_name` instead\n",
      "  **kwds)\n"
     ]
    },
    {
     "data": {
      "text/html": [
       "<div>\n",
       "<style scoped>\n",
       "    .dataframe tbody tr th:only-of-type {\n",
       "        vertical-align: middle;\n",
       "    }\n",
       "\n",
       "    .dataframe tbody tr th {\n",
       "        vertical-align: top;\n",
       "    }\n",
       "\n",
       "    .dataframe thead th {\n",
       "        text-align: right;\n",
       "    }\n",
       "</style>\n",
       "<table border=\"1\" class=\"dataframe\">\n",
       "  <thead>\n",
       "    <tr style=\"text-align: right;\">\n",
       "      <th></th>\n",
       "      <th>instant</th>\n",
       "      <th>dteday</th>\n",
       "      <th>season</th>\n",
       "      <th>yr</th>\n",
       "      <th>mnth</th>\n",
       "      <th>holiday</th>\n",
       "      <th>weekday</th>\n",
       "      <th>workingday</th>\n",
       "      <th>weathersit</th>\n",
       "      <th>temp</th>\n",
       "      <th>atemp</th>\n",
       "      <th>hum</th>\n",
       "      <th>windspeed</th>\n",
       "      <th>count</th>\n",
       "    </tr>\n",
       "  </thead>\n",
       "  <tbody>\n",
       "    <tr>\n",
       "      <th>0</th>\n",
       "      <td>1</td>\n",
       "      <td>2011-01-01</td>\n",
       "      <td>1</td>\n",
       "      <td>0</td>\n",
       "      <td>1</td>\n",
       "      <td>0</td>\n",
       "      <td>6</td>\n",
       "      <td>0</td>\n",
       "      <td>2</td>\n",
       "      <td>0.344167</td>\n",
       "      <td>0.363625</td>\n",
       "      <td>0.805833</td>\n",
       "      <td>0.160446</td>\n",
       "      <td>985</td>\n",
       "    </tr>\n",
       "    <tr>\n",
       "      <th>1</th>\n",
       "      <td>2</td>\n",
       "      <td>2011-01-02</td>\n",
       "      <td>1</td>\n",
       "      <td>0</td>\n",
       "      <td>1</td>\n",
       "      <td>0</td>\n",
       "      <td>0</td>\n",
       "      <td>0</td>\n",
       "      <td>2</td>\n",
       "      <td>0.363478</td>\n",
       "      <td>0.353739</td>\n",
       "      <td>0.696087</td>\n",
       "      <td>0.248539</td>\n",
       "      <td>801</td>\n",
       "    </tr>\n",
       "    <tr>\n",
       "      <th>2</th>\n",
       "      <td>3</td>\n",
       "      <td>2011-01-03</td>\n",
       "      <td>1</td>\n",
       "      <td>0</td>\n",
       "      <td>1</td>\n",
       "      <td>0</td>\n",
       "      <td>1</td>\n",
       "      <td>1</td>\n",
       "      <td>1</td>\n",
       "      <td>0.196364</td>\n",
       "      <td>0.189405</td>\n",
       "      <td>0.437273</td>\n",
       "      <td>0.248309</td>\n",
       "      <td>1349</td>\n",
       "    </tr>\n",
       "    <tr>\n",
       "      <th>3</th>\n",
       "      <td>4</td>\n",
       "      <td>2011-01-04</td>\n",
       "      <td>1</td>\n",
       "      <td>0</td>\n",
       "      <td>1</td>\n",
       "      <td>0</td>\n",
       "      <td>2</td>\n",
       "      <td>1</td>\n",
       "      <td>1</td>\n",
       "      <td>0.200000</td>\n",
       "      <td>0.212122</td>\n",
       "      <td>0.590435</td>\n",
       "      <td>0.160296</td>\n",
       "      <td>1562</td>\n",
       "    </tr>\n",
       "    <tr>\n",
       "      <th>4</th>\n",
       "      <td>5</td>\n",
       "      <td>2011-01-05</td>\n",
       "      <td>1</td>\n",
       "      <td>0</td>\n",
       "      <td>1</td>\n",
       "      <td>0</td>\n",
       "      <td>3</td>\n",
       "      <td>1</td>\n",
       "      <td>1</td>\n",
       "      <td>0.226957</td>\n",
       "      <td>0.229270</td>\n",
       "      <td>0.436957</td>\n",
       "      <td>0.186900</td>\n",
       "      <td>1600</td>\n",
       "    </tr>\n",
       "  </tbody>\n",
       "</table>\n",
       "</div>"
      ],
      "text/plain": [
       "   instant     dteday  season  yr  mnth  holiday  weekday  workingday  \\\n",
       "0        1 2011-01-01       1   0     1        0        6           0   \n",
       "1        2 2011-01-02       1   0     1        0        0           0   \n",
       "2        3 2011-01-03       1   0     1        0        1           1   \n",
       "3        4 2011-01-04       1   0     1        0        2           1   \n",
       "4        5 2011-01-05       1   0     1        0        3           1   \n",
       "\n",
       "   weathersit      temp     atemp       hum  windspeed  count  \n",
       "0           2  0.344167  0.363625  0.805833   0.160446    985  \n",
       "1           2  0.363478  0.353739  0.696087   0.248539    801  \n",
       "2           1  0.196364  0.189405  0.437273   0.248309   1349  \n",
       "3           1  0.200000  0.212122  0.590435   0.160296   1562  \n",
       "4           1  0.226957  0.229270  0.436957   0.186900   1600  "
      ]
     },
     "execution_count": 2,
     "metadata": {},
     "output_type": "execute_result"
    }
   ],
   "source": [
    "df_bikesharing = pd.read_excel('Bike_Sharing_day.xlsx', sheetname=\"day\")\n",
    "dummy=df_bikesharing\n",
    "dummy.head()"
   ]
  },
  {
   "cell_type": "code",
   "execution_count": 3,
   "metadata": {
    "ExecuteTime": {
     "end_time": "2018-10-25T06:48:18.636633Z",
     "start_time": "2018-10-25T06:48:18.608282Z"
    }
   },
   "outputs": [
    {
     "data": {
      "text/plain": [
       "'yy=np.reshape(y, (-1,1))\\n\\nfrom sklearn.preprocessing import MinMaxScaler\\nsscaler = MinMaxScaler()\\nX = sscaler.fit_transform(X)\\ny = sscaler.fit_transform(yy)'"
      ]
     },
     "execution_count": 3,
     "metadata": {},
     "output_type": "execute_result"
    }
   ],
   "source": [
    "df_features=dummy.drop('count', axis=1)\n",
    "df_features=df_features.drop('instant', axis=1)\n",
    "df_features=df_features.drop('dteday', axis=1)\n",
    "len(df_features)\n",
    "df_features.head(5)\n",
    "\n",
    "X = df_features\n",
    "y = dummy['count']\n",
    "\n",
    "\n",
    "\n",
    "##Run this if you want to scale the input and output \n",
    "\n",
    "'''yy=np.reshape(y, (-1,1))\n",
    "\n",
    "from sklearn.preprocessing import MinMaxScaler\n",
    "sscaler = MinMaxScaler()\n",
    "X = sscaler.fit_transform(X)\n",
    "y = sscaler.fit_transform(yy)'''\n",
    "\n",
    "\n"
   ]
  },
  {
   "cell_type": "code",
   "execution_count": 4,
   "metadata": {
    "ExecuteTime": {
     "end_time": "2018-10-25T06:48:18.662686Z",
     "start_time": "2018-10-25T06:48:18.638792Z"
    }
   },
   "outputs": [],
   "source": [
    "X_train, X_test, y_train, y_test = train_test_split(X, y, test_size = 0.25, random_state = 1)"
   ]
  },
  {
   "cell_type": "code",
   "execution_count": 5,
   "metadata": {
    "ExecuteTime": {
     "end_time": "2018-10-25T06:48:18.680398Z",
     "start_time": "2018-10-25T06:48:18.665778Z"
    }
   },
   "outputs": [
    {
     "data": {
      "text/html": [
       "<div>\n",
       "<style scoped>\n",
       "    .dataframe tbody tr th:only-of-type {\n",
       "        vertical-align: middle;\n",
       "    }\n",
       "\n",
       "    .dataframe tbody tr th {\n",
       "        vertical-align: top;\n",
       "    }\n",
       "\n",
       "    .dataframe thead th {\n",
       "        text-align: right;\n",
       "    }\n",
       "</style>\n",
       "<table border=\"1\" class=\"dataframe\">\n",
       "  <thead>\n",
       "    <tr style=\"text-align: right;\">\n",
       "      <th></th>\n",
       "      <th>season</th>\n",
       "      <th>yr</th>\n",
       "      <th>mnth</th>\n",
       "      <th>holiday</th>\n",
       "      <th>weekday</th>\n",
       "      <th>workingday</th>\n",
       "      <th>weathersit</th>\n",
       "      <th>temp</th>\n",
       "      <th>atemp</th>\n",
       "      <th>hum</th>\n",
       "      <th>windspeed</th>\n",
       "    </tr>\n",
       "  </thead>\n",
       "  <tbody>\n",
       "    <tr>\n",
       "      <th>521</th>\n",
       "      <td>2</td>\n",
       "      <td>1</td>\n",
       "      <td>6</td>\n",
       "      <td>0</td>\n",
       "      <td>2</td>\n",
       "      <td>1</td>\n",
       "      <td>2</td>\n",
       "      <td>0.540833</td>\n",
       "      <td>0.525892</td>\n",
       "      <td>0.613333</td>\n",
       "      <td>0.209575</td>\n",
       "    </tr>\n",
       "    <tr>\n",
       "      <th>147</th>\n",
       "      <td>2</td>\n",
       "      <td>0</td>\n",
       "      <td>5</td>\n",
       "      <td>0</td>\n",
       "      <td>6</td>\n",
       "      <td>0</td>\n",
       "      <td>1</td>\n",
       "      <td>0.655833</td>\n",
       "      <td>0.612379</td>\n",
       "      <td>0.729583</td>\n",
       "      <td>0.230092</td>\n",
       "    </tr>\n",
       "    <tr>\n",
       "      <th>472</th>\n",
       "      <td>2</td>\n",
       "      <td>1</td>\n",
       "      <td>4</td>\n",
       "      <td>0</td>\n",
       "      <td>2</td>\n",
       "      <td>1</td>\n",
       "      <td>1</td>\n",
       "      <td>0.608333</td>\n",
       "      <td>0.598487</td>\n",
       "      <td>0.390417</td>\n",
       "      <td>0.273629</td>\n",
       "    </tr>\n",
       "    <tr>\n",
       "      <th>635</th>\n",
       "      <td>4</td>\n",
       "      <td>1</td>\n",
       "      <td>9</td>\n",
       "      <td>0</td>\n",
       "      <td>4</td>\n",
       "      <td>1</td>\n",
       "      <td>2</td>\n",
       "      <td>0.650000</td>\n",
       "      <td>0.607975</td>\n",
       "      <td>0.690833</td>\n",
       "      <td>0.134342</td>\n",
       "    </tr>\n",
       "    <tr>\n",
       "      <th>331</th>\n",
       "      <td>4</td>\n",
       "      <td>0</td>\n",
       "      <td>11</td>\n",
       "      <td>0</td>\n",
       "      <td>1</td>\n",
       "      <td>1</td>\n",
       "      <td>1</td>\n",
       "      <td>0.503478</td>\n",
       "      <td>0.490122</td>\n",
       "      <td>0.743043</td>\n",
       "      <td>0.142122</td>\n",
       "    </tr>\n",
       "  </tbody>\n",
       "</table>\n",
       "</div>"
      ],
      "text/plain": [
       "     season  yr  mnth  holiday  weekday  workingday  weathersit      temp  \\\n",
       "521       2   1     6        0        2           1           2  0.540833   \n",
       "147       2   0     5        0        6           0           1  0.655833   \n",
       "472       2   1     4        0        2           1           1  0.608333   \n",
       "635       4   1     9        0        4           1           2  0.650000   \n",
       "331       4   0    11        0        1           1           1  0.503478   \n",
       "\n",
       "        atemp       hum  windspeed  \n",
       "521  0.525892  0.613333   0.209575  \n",
       "147  0.612379  0.729583   0.230092  \n",
       "472  0.598487  0.390417   0.273629  \n",
       "635  0.607975  0.690833   0.134342  \n",
       "331  0.490122  0.743043   0.142122  "
      ]
     },
     "execution_count": 5,
     "metadata": {},
     "output_type": "execute_result"
    }
   ],
   "source": [
    "X_train.head()"
   ]
  },
  {
   "cell_type": "code",
   "execution_count": 6,
   "metadata": {
    "ExecuteTime": {
     "end_time": "2018-10-25T06:48:19.084442Z",
     "start_time": "2018-10-25T06:48:18.683430Z"
    }
   },
   "outputs": [],
   "source": [
    "y_train = y_train/10000\n",
    "y_test = y_test/10000"
   ]
  },
  {
   "cell_type": "code",
   "execution_count": 14,
   "metadata": {
    "ExecuteTime": {
     "end_time": "2018-10-25T06:54:30.920390Z",
     "start_time": "2018-10-25T06:54:29.759523Z"
    }
   },
   "outputs": [],
   "source": [
    "from sklearn.metrics import r2_score\n",
    "\n",
    "# RANDOM SEED\n",
    "np.random.seed(42)\n",
    "\n",
    "\n",
    "def mape(y_pred, y_true):\n",
    "    return float(np.mean(np.abs((y_pred - y_true)/y_true)))\n",
    "\n",
    "\n",
    "def rmse(y_pred, y_true):\n",
    "    return float(np.sqrt(np.mean((y_pred - y_true)**2)))\n",
    "\n",
    "\n",
    "class NN():\n",
    "    # get attributes and initiate weights\n",
    "    def __init__(self,\n",
    "                 X_train, y_train,\n",
    "                 X_test, y_test,\n",
    "                 kind,\n",
    "                 num_hidden_layers,\n",
    "                 nodes=[],\n",
    "                 learning_rate=(0.1, 0.1),\n",
    "                 activation=('linear', 'sigmoid', 'sigmoid')):\n",
    "\n",
    "        self.input = X_train\n",
    "        self.output = y_train\n",
    "        self.X_test0 = X_test  # FOR TESTING PURPOSES DURING TRAINING\n",
    "        self.y_test0 = y_test  # FOR TESTING PURPOSES DURING TRAINING\n",
    "        self.kind = kind\n",
    "\n",
    "        self.num_hidden_layers = num_hidden_layers\n",
    "        self.nodes = nodes\n",
    "        self.lr = learning_rate\n",
    "        self.activation = activation\n",
    "\n",
    "        # UPDATE THIS\n",
    "        # initiate weights\n",
    "        self.weights = []\n",
    "        self.best_weights = []\n",
    "        for i in range(self.num_hidden_layers + 1):\n",
    "            self.weights.append(\n",
    "                2 * np.random.random((self.nodes[i], self.nodes[i + 1])) - 1)\n",
    "            self.best_weights.append(self.weights[i])\n",
    "\n",
    "        # SCORES AND ERRORS\n",
    "        self.train_errors = []\n",
    "        self.train_r2 = []\n",
    "        self.test_r2 = []\n",
    "        self.train_mape = []\n",
    "        self.test_mape = []\n",
    "        self.train_rmse = []\n",
    "        self.test_rmse = []\n",
    "\n",
    "    # functions\n",
    "\n",
    "    def f(self, x, func_name, deriv=False):\n",
    "        if func_name == 'sin':\n",
    "            if(deriv == True):\n",
    "                return np.cos(x)\n",
    "            return np.sin(x)\n",
    "        elif func_name == 'tanh':\n",
    "            if(deriv == True):\n",
    "                return 1.7159 * (1 - (np.tanh(2 * x / 3)**2)**2) / 3\n",
    "            return 1.7159 * np.tanh(2 * x / 3)\n",
    "        elif func_name == 'linear':\n",
    "            if(deriv == True):\n",
    "                return 1\n",
    "            return x\n",
    "        elif func_name == 'sigmoid':\n",
    "            sig = 1 / (1 + np.exp(-x))\n",
    "            if(deriv == True):\n",
    "                return sig * (1 - sig)\n",
    "            return sig\n",
    "        elif func_name == 'relu':\n",
    "            if(deriv == True):\n",
    "                b = x >= 0\n",
    "                return b.astype(int)\n",
    "            return x.clip(min=0)\n",
    "\n",
    "    def feed_forward(self, num_iter):\n",
    "\n",
    "        for iters in range(num_iter):\n",
    "\n",
    "            # initialize\n",
    "            unactivated = []\n",
    "            activated = []\n",
    "            unactivated_test = []\n",
    "            activated_test = []\n",
    "            deltas = []\n",
    "\n",
    "            # feed forward\n",
    "            # 0 layer 0 activated\n",
    "            activated.append(self.f(self.input, self.activation[0]))\n",
    "\n",
    "            for i in range(self.num_hidden_layers + 1):\n",
    "                unactivated.append(\n",
    "                    np.dot(activated[i], self.weights[i]))\n",
    "                activated.append(\n",
    "                    self.f(unactivated[i], func_name=self.activation[i + 1]))\n",
    "\n",
    "            y_out_nn = activated[-1][:]\n",
    "\n",
    "            # Error Function\n",
    "            error = self.output - y_out_nn\n",
    "            self.train_errors.append(np.mean(np.abs(error)))\n",
    "\n",
    "            # Test Accuracy\n",
    "            # 0 layer0 activated\n",
    "            activated_test.append(self.f(self.X_test0, self.activation[0]))\n",
    "\n",
    "            for i in range(self.num_hidden_layers + 1):\n",
    "                unactivated_test.append(\n",
    "                    np.dot(activated_test[i], self.weights[i]))\n",
    "                activated_test.append(self.f(\n",
    "                    unactivated_test[i], func_name=self.activation[i + 1]))\n",
    "\n",
    "            y_out_test = activated_test[-1][:]\n",
    "\n",
    "            # TRAIN AND TEST ACCURACIES\n",
    "            if self.kind == 'regressor':\n",
    "\n",
    "                train_rmse = rmse(y_out_nn, self.output)\n",
    "                train_r2 = r2_score(self.output, y_out_nn)\n",
    "                train_mape = mape(y_out_nn, self.output)\n",
    "\n",
    "                self.train_r2.append(train_r2)\n",
    "                self.train_mape.append(train_mape)\n",
    "                self.train_rmse.append(train_rmse)\n",
    "\n",
    "                test_mape = mape(y_out_test, self.y_test0)\n",
    "                test_rmse = rmse(y_out_test, self.y_test0)\n",
    "                test_r2 = r2_score(self.y_test0, y_out_test)\n",
    "\n",
    "                self.test_r2.append(test_r2)\n",
    "                self.test_rmse.append(test_rmse)\n",
    "                self.test_mape.append(test_mape)\n",
    "\n",
    "            elif self.kind == 'classifier':\n",
    "                y_out_nn = np.rint(y_out_nn)  # convert to integers\n",
    "                train_acc = accuracy_score(y_out_nn, self.output)\n",
    "                y_out_test = np.rint(y_out_test)\n",
    "                test_acc = accuracy_score(y_out_test, self.y_test0)\n",
    "\n",
    "                self.train_accs.append(train_acc)\n",
    "                self.test_accs.append(test_acc)\n",
    "\n",
    "            # APPENDING BEST WEIGHTS\n",
    "            if iters > 4 and test_r2 > max(self.test_r2[:-1]):\n",
    "                for i in range(self.num_hidden_layers + 1):\n",
    "                    self.best_weights[i] = self.weights[i]\n",
    "\n",
    "            # print iteration results\n",
    "            if (iters % int(num_iter / 10)) == 0:\n",
    "                print(\"i:\", iters,\n",
    "                      \"error:\", np.round(np.mean(np.abs(error)), 2),\n",
    "                      \"train r2:\", np.round(train_r2, 2),\n",
    "                      \"valid r2:\", np.round(test_r2, 2),\n",
    "                      \"train MAPE:\", np.round(train_mape, 2),\n",
    "                      \"valid MAPE:\", np.round(test_mape, 2))\n",
    "#                       \"train RMSE:\", np.round(train_rmse, 2),\n",
    "#                       \"valid RMSE:\", np.round(test_rmse, 2))\n",
    "\n",
    "            # gradient updates\n",
    "            deltas.append(error * self.f(unactivated[self.num_hidden_layers],\n",
    "                                         func_name=self.activation[self.num_hidden_layers + 1], deriv=True))\n",
    "\n",
    "            for i in range(self.num_hidden_layers):\n",
    "                deltas.append(deltas[i].dot(self.weights[self.num_hidden_layers - i].T) *\n",
    "                              self.f(unactivated[self.num_hidden_layers - 1 - i], func_name=self.activation[self.num_hidden_layers - i], deriv=True))\n",
    "\n",
    "            # update weights\n",
    "            self.weights[self.num_hidden_layers] += self.lr[self.num_hidden_layers] * \\\n",
    "                activated[self.num_hidden_layers].T.dot(deltas[0])\n",
    "            for i in range(1, self.num_hidden_layers):\n",
    "                self.weights[i] += self.lr[i] * \\\n",
    "                    unactivated[self.num_hidden_layers -\n",
    "                                1 - i].T.dot(deltas[i])\n",
    "            self.weights[0] += self.lr[0] * \\\n",
    "                activated[0].T.dot(deltas[self.num_hidden_layers])\n",
    "\n",
    "        print(\"done training\")\n",
    "\n",
    "    # Predict X_test, output y_predicted\n",
    "    def predict(self, X_test):\n",
    "        \"Predict values using best weights\"\n",
    "\n",
    "        unactivated = []\n",
    "        activated = []\n",
    "\n",
    "        # 0 layer0 activated\n",
    "        activated.append(self.f(X_test, self.activation[0]))\n",
    "        for i in range(self.num_hidden_layers + 1):\n",
    "            unactivated.append(\n",
    "                np.dot(activated[i], self.best_weights[i]))\n",
    "            activated.append(\n",
    "                self.f(unactivated[i], func_name=self.activation[i + 1]))\n",
    "\n",
    "        y_out_test = activated[-1][:]\n",
    "        return y_out_test"
   ]
  },
  {
   "cell_type": "code",
   "execution_count": 24,
   "metadata": {
    "ExecuteTime": {
     "end_time": "2018-10-25T06:56:23.034071Z",
     "start_time": "2018-10-25T06:56:23.024396Z"
    }
   },
   "outputs": [],
   "source": [
    "X_train2 = X_train.iloc[:, ]\n",
    "y_train2 = y_train.iloc[:].values.reshape(-1, 1)\n",
    "y_test2 = y_test.iloc[:].values.reshape(-1, 1)\n",
    "nodes = [11, 14, 14, 1]\n",
    "\n",
    "\n",
    "NN_ = NN(\n",
    "    X_train2, y_train2,\n",
    "    X_test, y_test2,\n",
    "    'regressor',\n",
    "    num_hidden_layers=2,\n",
    "    nodes=nodes,\n",
    "    learning_rate=(0.01, 0.001, 0.001),\n",
    "    activation=('linear', 'sin', 'sigmoid', 'sigmoid'))"
   ]
  },
  {
   "cell_type": "code",
   "execution_count": 25,
   "metadata": {
    "ExecuteTime": {
     "end_time": "2018-10-25T06:56:37.213914Z",
     "start_time": "2018-10-25T06:56:23.297023Z"
    }
   },
   "outputs": [
    {
     "name": "stdout",
     "output_type": "stream",
     "text": [
      "i: 0 error: 0.28 train r2: -1.99 valid r2: -1.32 train MAPE: 0.73 valid MAPE: 0.56\n",
      "i: 500 error: 0.07 train r2: 0.78 valid r2: 0.77 train MAPE: 0.48 valid MAPE: 0.26\n",
      "i: 1000 error: 0.06 train r2: 0.83 valid r2: 0.8 train MAPE: 0.41 valid MAPE: 0.22\n",
      "i: 1500 error: 0.06 train r2: 0.86 valid r2: 0.81 train MAPE: 0.4 valid MAPE: 0.2\n",
      "i: 2000 error: 0.05 train r2: 0.87 valid r2: 0.81 train MAPE: 0.38 valid MAPE: 0.2\n",
      "i: 2500 error: 0.05 train r2: 0.88 valid r2: 0.81 train MAPE: 0.34 valid MAPE: 0.19\n",
      "i: 3000 error: 0.05 train r2: 0.88 valid r2: 0.81 train MAPE: 0.32 valid MAPE: 0.19\n",
      "i: 3500 error: 0.05 train r2: 0.89 valid r2: 0.81 train MAPE: 0.3 valid MAPE: 0.19\n",
      "i: 4000 error: 0.05 train r2: 0.89 valid r2: 0.81 train MAPE: 0.29 valid MAPE: 0.19\n",
      "i: 4500 error: 0.05 train r2: 0.89 valid r2: 0.8 train MAPE: 0.29 valid MAPE: 0.19\n",
      "done training\n"
     ]
    }
   ],
   "source": [
    "NN_.feed_forward(5000)"
   ]
  },
  {
   "cell_type": "code",
   "execution_count": 27,
   "metadata": {
    "ExecuteTime": {
     "end_time": "2018-10-25T06:57:03.754350Z",
     "start_time": "2018-10-25T06:57:03.320489Z"
    }
   },
   "outputs": [
    {
     "data": {
      "image/png": "[encoded data removed]",
      "text/plain": [
       "<matplotlib.figure.Figure at 0x1039bd198>"
      ]
     },
     "metadata": {},
     "output_type": "display_data"
    }
   ],
   "source": [
    "# import matplotlib.pyplot as plt\n",
    "f, ax = plt.subplots(3, 1, figsize=(8,10))\n",
    "ax[0].plot(NN_.train_errors)\n",
    "ax[0].set_title('Train Errors')\n",
    "ax[0].set_xlabel('iterations')\n",
    "ax[0].set_ylabel('error')\n",
    "\n",
    "ax[1].plot(NN_.train_r2)\n",
    "ax[1].set_title('Train Accuracy')\n",
    "ax[1].set_xlabel('iterations')\n",
    "ax[1].set_ylabel('accuracy')\n",
    "                 \n",
    "ax[2].plot(NN_.test_r2)\n",
    "ax[2].set_title('Test Accuracy')\n",
    "ax[2].set_xlabel('iterations')\n",
    "ax[2].set_ylabel('accuracy')\n",
    "\n",
    "plt.tight_layout()"
   ]
  },
  {
   "cell_type": "code",
   "execution_count": 29,
   "metadata": {
    "ExecuteTime": {
     "end_time": "2018-10-25T06:57:18.054142Z",
     "start_time": "2018-10-25T06:57:18.048889Z"
    }
   },
   "outputs": [
    {
     "name": "stdout",
     "output_type": "stream",
     "text": [
      "2350\n",
      "0.8149171020631896\n"
     ]
    }
   ],
   "source": [
    "# MAX TEST ACCURACY\n",
    "print(np.argmax(NN_.test_r2))\n",
    "print(max(NN_.test_r2))\n"
   ]
  },
  {
   "cell_type": "code",
   "execution_count": 30,
   "metadata": {
    "ExecuteTime": {
     "end_time": "2018-10-25T06:57:25.869084Z",
     "start_time": "2018-10-25T06:57:25.862153Z"
    }
   },
   "outputs": [
    {
     "data": {
      "text/plain": [
       "0.7832144127214528"
      ]
     },
     "execution_count": 30,
     "metadata": {},
     "output_type": "execute_result"
    }
   ],
   "source": [
    "r2_score(NN_.predict(X_test), y_test)"
   ]
  },
  {
   "cell_type": "markdown",
   "metadata": {},
   "source": [
    "## Feed-forward NN Classifier"
   ]
  },
  {
   "cell_type": "code",
   "execution_count": 15,
   "metadata": {
    "ExecuteTime": {
     "end_time": "2018-10-22T15:10:38.369151Z",
     "start_time": "2018-10-22T15:10:38.029842Z"
    }
   },
   "outputs": [
    {
     "name": "stderr",
     "output_type": "stream",
     "text": [
      "/Users/fernandojavier/anaconda3/lib/python3.6/site-packages/pandas/io/excel.py:329: FutureWarning: The `sheetname` keyword is deprecated, use `sheet_name` instead\n",
      "  **kwds)\n"
     ]
    },
    {
     "data": {
      "text/html": [
       "<div>\n",
       "<style scoped>\n",
       "    .dataframe tbody tr th:only-of-type {\n",
       "        vertical-align: middle;\n",
       "    }\n",
       "\n",
       "    .dataframe tbody tr th {\n",
       "        vertical-align: top;\n",
       "    }\n",
       "\n",
       "    .dataframe thead th {\n",
       "        text-align: right;\n",
       "    }\n",
       "</style>\n",
       "<table border=\"1\" class=\"dataframe\">\n",
       "  <thead>\n",
       "    <tr style=\"text-align: right;\">\n",
       "      <th></th>\n",
       "      <th>Batch</th>\n",
       "      <th>Eng7</th>\n",
       "      <th>Eng8</th>\n",
       "      <th>Eng9</th>\n",
       "      <th>Math7</th>\n",
       "      <th>Math8</th>\n",
       "      <th>Math9</th>\n",
       "      <th>Sci7</th>\n",
       "      <th>Sci8</th>\n",
       "      <th>Sci9</th>\n",
       "      <th>GWA7</th>\n",
       "      <th>GWA8</th>\n",
       "      <th>GWA9</th>\n",
       "      <th>UP</th>\n",
       "      <th>IQ</th>\n",
       "      <th>SA</th>\n",
       "      <th>C1</th>\n",
       "      <th>C2</th>\n",
       "      <th>Target</th>\n",
       "    </tr>\n",
       "  </thead>\n",
       "  <tbody>\n",
       "    <tr>\n",
       "      <th>0</th>\n",
       "      <td>2005</td>\n",
       "      <td>77</td>\n",
       "      <td>82.0</td>\n",
       "      <td>86</td>\n",
       "      <td>94</td>\n",
       "      <td>87</td>\n",
       "      <td>92.0</td>\n",
       "      <td>84</td>\n",
       "      <td>80</td>\n",
       "      <td>92</td>\n",
       "      <td>1.4764</td>\n",
       "      <td>1.5045</td>\n",
       "      <td>1.4098</td>\n",
       "      <td>1</td>\n",
       "      <td>55.0</td>\n",
       "      <td>28</td>\n",
       "      <td>1</td>\n",
       "      <td>4.0</td>\n",
       "      <td>1</td>\n",
       "    </tr>\n",
       "    <tr>\n",
       "      <th>1</th>\n",
       "      <td>2005</td>\n",
       "      <td>57</td>\n",
       "      <td>57.0</td>\n",
       "      <td>59</td>\n",
       "      <td>55</td>\n",
       "      <td>46</td>\n",
       "      <td>57.0</td>\n",
       "      <td>53</td>\n",
       "      <td>45</td>\n",
       "      <td>53</td>\n",
       "      <td>2.6557</td>\n",
       "      <td>2.7000</td>\n",
       "      <td>2.7008</td>\n",
       "      <td>1</td>\n",
       "      <td>38.0</td>\n",
       "      <td>19</td>\n",
       "      <td>5</td>\n",
       "      <td>3.0</td>\n",
       "      <td>0</td>\n",
       "    </tr>\n",
       "    <tr>\n",
       "      <th>2</th>\n",
       "      <td>2005</td>\n",
       "      <td>55</td>\n",
       "      <td>52.0</td>\n",
       "      <td>55</td>\n",
       "      <td>57</td>\n",
       "      <td>53</td>\n",
       "      <td>51.0</td>\n",
       "      <td>57</td>\n",
       "      <td>62</td>\n",
       "      <td>51</td>\n",
       "      <td>2.6132</td>\n",
       "      <td>2.6818</td>\n",
       "      <td>2.7172</td>\n",
       "      <td>0</td>\n",
       "      <td>17.0</td>\n",
       "      <td>9</td>\n",
       "      <td>5</td>\n",
       "      <td>6.0</td>\n",
       "      <td>0</td>\n",
       "    </tr>\n",
       "    <tr>\n",
       "      <th>3</th>\n",
       "      <td>2005</td>\n",
       "      <td>69</td>\n",
       "      <td>78.0</td>\n",
       "      <td>78</td>\n",
       "      <td>87</td>\n",
       "      <td>79</td>\n",
       "      <td>79.0</td>\n",
       "      <td>83</td>\n",
       "      <td>82</td>\n",
       "      <td>79</td>\n",
       "      <td>1.7217</td>\n",
       "      <td>1.6136</td>\n",
       "      <td>1.7049</td>\n",
       "      <td>1</td>\n",
       "      <td>45.0</td>\n",
       "      <td>28</td>\n",
       "      <td>1</td>\n",
       "      <td>4.0</td>\n",
       "      <td>0</td>\n",
       "    </tr>\n",
       "    <tr>\n",
       "      <th>4</th>\n",
       "      <td>2005</td>\n",
       "      <td>64</td>\n",
       "      <td>71.0</td>\n",
       "      <td>68</td>\n",
       "      <td>71</td>\n",
       "      <td>57</td>\n",
       "      <td>54.0</td>\n",
       "      <td>60</td>\n",
       "      <td>59</td>\n",
       "      <td>55</td>\n",
       "      <td>2.4245</td>\n",
       "      <td>2.4318</td>\n",
       "      <td>2.4713</td>\n",
       "      <td>1</td>\n",
       "      <td>67.0</td>\n",
       "      <td>56</td>\n",
       "      <td>1</td>\n",
       "      <td>5.0</td>\n",
       "      <td>0</td>\n",
       "    </tr>\n",
       "  </tbody>\n",
       "</table>\n",
       "</div>"
      ],
      "text/plain": [
       "   Batch  Eng7  Eng8  Eng9  Math7  Math8  Math9  Sci7  Sci8  Sci9    GWA7  \\\n",
       "0   2005    77  82.0    86     94     87   92.0    84    80    92  1.4764   \n",
       "1   2005    57  57.0    59     55     46   57.0    53    45    53  2.6557   \n",
       "2   2005    55  52.0    55     57     53   51.0    57    62    51  2.6132   \n",
       "3   2005    69  78.0    78     87     79   79.0    83    82    79  1.7217   \n",
       "4   2005    64  71.0    68     71     57   54.0    60    59    55  2.4245   \n",
       "\n",
       "     GWA8    GWA9  UP    IQ  SA  C1   C2  Target  \n",
       "0  1.5045  1.4098   1  55.0  28   1  4.0       1  \n",
       "1  2.7000  2.7008   1  38.0  19   5  3.0       0  \n",
       "2  2.6818  2.7172   0  17.0   9   5  6.0       0  \n",
       "3  1.6136  1.7049   1  45.0  28   1  4.0       0  \n",
       "4  2.4318  2.4713   1  67.0  56   1  5.0       0  "
      ]
     },
     "execution_count": 15,
     "metadata": {},
     "output_type": "execute_result"
    }
   ],
   "source": [
    "df_UPCAT = pd.read_excel('UPCAT_DATA2.xlsx', sheetname='AllData')\n",
    "dummy = df_UPCAT\n",
    "dummy.head()"
   ]
  },
  {
   "cell_type": "code",
   "execution_count": 16,
   "metadata": {
    "ExecuteTime": {
     "end_time": "2018-10-22T15:10:39.637335Z",
     "start_time": "2018-10-22T15:10:38.809009Z"
    }
   },
   "outputs": [
    {
     "data": {
      "image/png": "[encoded data removed]",
      "text/plain": [
       "<matplotlib.figure.Figure at 0x113392a20>"
      ]
     },
     "metadata": {},
     "output_type": "display_data"
    }
   ],
   "source": [
    "import seaborn as sns\n",
    "sns.countplot(df_UPCAT['Target'],label=\"Count\")\n",
    "plt.show()"
   ]
  },
  {
   "cell_type": "code",
   "execution_count": 17,
   "metadata": {
    "ExecuteTime": {
     "end_time": "2018-10-22T15:10:39.645674Z",
     "start_time": "2018-10-22T15:10:39.639736Z"
    }
   },
   "outputs": [
    {
     "data": {
      "text/plain": [
       "Index(['Batch', 'Eng7', 'Eng8', 'Eng9', 'Math7', 'Math8', 'Math9', 'Sci7',\n",
       "       'Sci8', 'Sci9', 'GWA7', 'GWA8', 'GWA9', 'UP', 'IQ', 'SA', 'C1', 'C2',\n",
       "       'Target'],\n",
       "      dtype='object')"
      ]
     },
     "execution_count": 17,
     "metadata": {},
     "output_type": "execute_result"
    }
   ],
   "source": [
    "dummy.columns"
   ]
  },
  {
   "cell_type": "code",
   "execution_count": 18,
   "metadata": {
    "ExecuteTime": {
     "end_time": "2018-10-22T15:10:40.064619Z",
     "start_time": "2018-10-22T15:10:40.057017Z"
    }
   },
   "outputs": [],
   "source": [
    "feature_names = ['Eng7', 'Eng8', 'Eng9', 'Math7', 'Math8', 'Math9', 'Sci7',\n",
    "       'Sci8', 'Sci9', 'GWA7', 'GWA8', 'GWA9', 'UP', 'IQ', 'SA', 'C1', 'C2']\n",
    "\n",
    "X = df_UPCAT[feature_names]\n",
    "y = df_UPCAT['Target']\n"
   ]
  },
  {
   "cell_type": "code",
   "execution_count": 19,
   "metadata": {
    "ExecuteTime": {
     "end_time": "2018-10-22T15:10:40.592125Z",
     "start_time": "2018-10-22T15:10:40.587100Z"
    }
   },
   "outputs": [
    {
     "data": {
      "text/plain": [
       "(1010,)"
      ]
     },
     "execution_count": 19,
     "metadata": {},
     "output_type": "execute_result"
    }
   ],
   "source": [
    "y.shape"
   ]
  },
  {
   "cell_type": "code",
   "execution_count": 20,
   "metadata": {
    "ExecuteTime": {
     "end_time": "2018-10-22T15:10:42.354729Z",
     "start_time": "2018-10-22T15:10:42.267009Z"
    }
   },
   "outputs": [
    {
     "data": {
      "text/plain": [
       "Eng7     0\n",
       "Eng8     0\n",
       "Eng9     0\n",
       "Math7    0\n",
       "Math8    0\n",
       "Math9    0\n",
       "Sci7     0\n",
       "Sci8     0\n",
       "Sci9     0\n",
       "GWA7     0\n",
       "GWA8     0\n",
       "GWA9     0\n",
       "UP       0\n",
       "IQ       0\n",
       "SA       0\n",
       "C1       0\n",
       "C2       0\n",
       "dtype: int64"
      ]
     },
     "execution_count": 20,
     "metadata": {},
     "output_type": "execute_result"
    }
   ],
   "source": [
    "import pandas as pd\n",
    "import numpy as np\n",
    "\n",
    "from sklearn.base import TransformerMixin\n",
    "\n",
    "class DataFrameImputer(TransformerMixin):\n",
    "\n",
    "    def __init__(self):\n",
    "        \"\"\"Impute missing values.\n",
    "\n",
    "        Columns of dtype object are imputed with the most frequent value \n",
    "        in column.\n",
    "\n",
    "        Columns of other types are imputed with mean of column.\n",
    "\n",
    "        \"\"\"\n",
    "    def fit(self, X, y=None):\n",
    "\n",
    "        self.fill = pd.Series([X[c].value_counts().index[0]\n",
    "            if X[c].dtype == np.dtype('O') else X[c].mean() for c in X],\n",
    "            index=X.columns)\n",
    "\n",
    "        return self\n",
    "\n",
    "    def transform(self, X, y=None):\n",
    "        return X.fillna(self.fill)\n",
    "\n",
    "\n",
    "\n",
    "X_transition = pd.DataFrame(X)\n",
    "X_clean = DataFrameImputer().fit_transform(X_transition)\n",
    "\n",
    "X_clean.isnull().sum()"
   ]
  },
  {
   "cell_type": "code",
   "execution_count": 21,
   "metadata": {
    "ExecuteTime": {
     "end_time": "2018-10-22T15:10:42.671295Z",
     "start_time": "2018-10-22T15:10:42.665292Z"
    }
   },
   "outputs": [
    {
     "data": {
      "text/plain": [
       "(1010, 17)"
      ]
     },
     "execution_count": 21,
     "metadata": {},
     "output_type": "execute_result"
    }
   ],
   "source": [
    "X_clean.shape"
   ]
  },
  {
   "cell_type": "code",
   "execution_count": 22,
   "metadata": {
    "ExecuteTime": {
     "end_time": "2018-10-22T15:10:43.106557Z",
     "start_time": "2018-10-22T15:10:43.098558Z"
    }
   },
   "outputs": [],
   "source": [
    "from sklearn.preprocessing import MinMaxScaler\n",
    "sscaler = MinMaxScaler()\n",
    "X = sscaler.fit_transform(X_clean)"
   ]
  },
  {
   "cell_type": "code",
   "execution_count": 23,
   "metadata": {
    "ExecuteTime": {
     "end_time": "2018-10-22T15:10:43.559397Z",
     "start_time": "2018-10-22T15:10:43.553416Z"
    }
   },
   "outputs": [],
   "source": [
    "from sklearn.model_selection import train_test_split\n",
    "X_train, X_test, y_train, y_test = train_test_split(X_clean, y, test_size=0.25, random_state=42)"
   ]
  },
  {
   "cell_type": "code",
   "execution_count": 24,
   "metadata": {
    "ExecuteTime": {
     "end_time": "2018-10-22T15:10:43.886746Z",
     "start_time": "2018-10-22T15:10:43.878236Z"
    }
   },
   "outputs": [
    {
     "data": {
      "text/plain": [
       "array([[1],\n",
       "       [1],\n",
       "       [0],\n",
       "       [0],\n",
       "       [1]])"
      ]
     },
     "execution_count": 24,
     "metadata": {},
     "output_type": "execute_result"
    }
   ],
   "source": [
    "y0=np.array(y_train, ndmin=2).T\n",
    "y0[:5]"
   ]
  },
  {
   "cell_type": "code",
   "execution_count": 25,
   "metadata": {
    "ExecuteTime": {
     "end_time": "2018-10-22T15:10:44.315957Z",
     "start_time": "2018-10-22T15:10:44.311707Z"
    }
   },
   "outputs": [],
   "source": [
    "y_test0=np.array(y_test, ndmin=2).T"
   ]
  },
  {
   "cell_type": "code",
   "execution_count": 28,
   "metadata": {
    "ExecuteTime": {
     "end_time": "2018-10-22T15:11:00.896732Z",
     "start_time": "2018-10-22T15:11:00.885197Z"
    }
   },
   "outputs": [],
   "source": [
    "X_train2 = X_train.values[:]\n",
    "y_train2 = y0[:]\n",
    "\n",
    "nodes = [17, 17, 1]\n",
    "\n",
    "y_test = y_test0[:]\n",
    "\n",
    "\n",
    "NN_ = NN(\n",
    "        'classifier',\n",
    "        X_train2, y_train2,\n",
    "         X_test, y_test,\n",
    "        num_hidden_layers=1,\n",
    "         nodes=nodes,\n",
    "         learning_rate=(0.001, 0.0001),\n",
    "         activation=('linear', 'sigmoid', 'sigmoid'))"
   ]
  },
  {
   "cell_type": "code",
   "execution_count": 29,
   "metadata": {
    "ExecuteTime": {
     "end_time": "2018-10-22T15:11:18.528244Z",
     "start_time": "2018-10-22T15:11:03.590040Z"
    }
   },
   "outputs": [
    {
     "name": "stderr",
     "output_type": "stream",
     "text": [
      "/Users/fernandojavier/anaconda3/lib/python3.6/site-packages/ipykernel/__main__.py:59: RuntimeWarning: overflow encountered in exp\n"
     ]
    },
    {
     "name": "stdout",
     "output_type": "stream",
     "text": [
      "Iteration: 0 Abs Error= 0.4863824954276919 Test Acc= 0.5335968379446641\n",
      "Iteration: 797 Abs Error= 0.4002442961658314 Test Acc= 0.7154150197628458\n",
      "Iteration: 1594 Abs Error= 0.38755766259090213 Test Acc= 0.7075098814229249\n",
      "Iteration: 2391 Abs Error= 0.38356809356447696 Test Acc= 0.6877470355731226\n",
      "Iteration: 3188 Abs Error= 0.36006812634277846 Test Acc= 0.7154150197628458\n",
      "Iteration: 3985 Abs Error= 0.3467591901743794 Test Acc= 0.7509881422924901\n",
      "Iteration: 4782 Abs Error= 0.3844058192510323 Test Acc= 0.691699604743083\n",
      "Iteration: 5579 Abs Error= 0.36529414493525825 Test Acc= 0.7154150197628458\n",
      "Iteration: 6376 Abs Error= 0.3356023940095169 Test Acc= 0.7549407114624506\n",
      "Iteration: 7173 Abs Error= 0.33786045561731326 Test Acc= 0.7509881422924901\n",
      "Iteration: 7970 Abs Error= 0.3357816422617224 Test Acc= 0.7509881422924901\n",
      "done training\n"
     ]
    }
   ],
   "source": [
    "NN_.feed_forward(7976)"
   ]
  },
  {
   "cell_type": "code",
   "execution_count": 30,
   "metadata": {
    "ExecuteTime": {
     "end_time": "2018-10-22T15:11:21.878938Z",
     "start_time": "2018-10-22T15:11:21.202458Z"
    }
   },
   "outputs": [
    {
     "data": {
      "image/png": "[encoded data removed]",
      "text/plain": [
       "<matplotlib.figure.Figure at 0x1a13f7aac8>"
      ]
     },
     "metadata": {},
     "output_type": "display_data"
    }
   ],
   "source": [
    "import matplotlib.pyplot as plt\n",
    "f, ax = plt.subplots(3, 1, figsize=(8,10))\n",
    "ax[0].plot(NN_.train_errors)\n",
    "ax[0].set_title('Train Errors')\n",
    "ax[0].set_xlabel('iterations')\n",
    "ax[0].set_ylabel('error')\n",
    "\n",
    "ax[1].plot(NN_.train_accs)\n",
    "ax[1].set_title('Train Accuracy')\n",
    "ax[1].set_xlabel('iterations')\n",
    "ax[1].set_ylabel('accuracy')\n",
    "                 \n",
    "ax[2].plot(NN_.test_accs)\n",
    "ax[2].set_title('Test Accuracy')\n",
    "ax[2].set_xlabel('iterations')\n",
    "ax[2].set_ylabel('accuracy')\n",
    "\n",
    "plt.tight_layout()"
   ]
  },
  {
   "cell_type": "code",
   "execution_count": 31,
   "metadata": {
    "ExecuteTime": {
     "end_time": "2018-10-22T15:11:24.399637Z",
     "start_time": "2018-10-22T15:11:24.393419Z"
    }
   },
   "outputs": [
    {
     "name": "stdout",
     "output_type": "stream",
     "text": [
      "7908\n",
      "0.7865612648221344\n"
     ]
    }
   ],
   "source": [
    "# MAX TEST ACCURACY\n",
    "print(np.argmax(NN_.test_accs))\n",
    "print(max(NN_.test_accs))\n"
   ]
  },
  {
   "cell_type": "code",
   "execution_count": 32,
   "metadata": {
    "ExecuteTime": {
     "end_time": "2018-10-22T15:11:25.391776Z",
     "start_time": "2018-10-22T15:11:25.384720Z"
    }
   },
   "outputs": [
    {
     "data": {
      "text/plain": [
       "0.7984189723320159"
      ]
     },
     "execution_count": 32,
     "metadata": {},
     "output_type": "execute_result"
    }
   ],
   "source": [
    "y_pred = np.rint(NN_.predict(X_test))\n",
    "accuracy_score(y_pred, y_test0)"
   ]
  },
  {
   "cell_type": "code",
   "execution_count": 33,
   "metadata": {
    "ExecuteTime": {
     "end_time": "2018-10-22T15:11:26.646688Z",
     "start_time": "2018-10-22T15:11:26.401681Z"
    }
   },
   "outputs": [
    {
     "name": "stdout",
     "output_type": "stream",
     "text": [
      "\n",
      "Confusion Matrix Using Best Parameters\n"
     ]
    },
    {
     "data": {
      "image/png": "[encoded data removed]",
      "text/plain": [
       "<matplotlib.figure.Figure at 0x1a1723fd30>"
      ]
     },
     "metadata": {},
     "output_type": "display_data"
    }
   ],
   "source": [
    "# Confusion Matrix\n",
    "print()\n",
    "print(\"Confusion Matrix Using Best Parameters\")\n",
    "cm = confusion_matrix(y_test, y_pred)\n",
    "plt.matshow(cm, cmap=plt.cm.Blues)\n",
    "for (i, j), z in np.ndenumerate(cm):\n",
    "    plt.text(j, i, '{:0.1f}'.format(z), ha='center', va='center')\n",
    "plt.xlabel(\"True\")\n",
    "plt.ylabel(\"Predicted\")\n",
    "plt.show()"
   ]
  },
  {
   "cell_type": "code",
   "execution_count": null,
   "metadata": {},
   "outputs": [],
   "source": []
  }
 ],
 "metadata": {
  "hide_input": false,
  "kernelspec": {
   "display_name": "Python [default]",
   "language": "python",
   "name": "python3"
  },
  "language_info": {
   "codemirror_mode": {
    "name": "ipython",
    "version": 3
   },
   "file_extension": ".py",
   "mimetype": "text/x-python",
   "name": "python",
   "nbconvert_exporter": "python",
   "pygments_lexer": "ipython3",
   "version": "3.6.4"
  },
  "latex_envs": {
   "LaTeX_envs_menu_present": true,
   "autoclose": false,
   "autocomplete": true,
   "bibliofile": "biblio.bib",
   "cite_by": "apalike",
   "current_citInitial": 1,
   "eqLabelWithNumbers": true,
   "eqNumInitial": 1,
   "hotkeys": {
    "equation": "Ctrl-E",
    "itemize": "Ctrl-I"
   },
   "labels_anchors": false,
   "latex_user_defs": false,
   "report_style_numbering": false,
   "user_envs_cfg": false
  },
  "toc": {
   "base_numbering": 1,
   "nav_menu": {},
   "number_sections": true,
   "sideBar": true,
   "skip_h1_title": false,
   "title_cell": "Table of Contents",
   "title_sidebar": "Contents",
   "toc_cell": false,
   "toc_position": {},
   "toc_section_display": true,
   "toc_window_display": false
  }
 },
 "nbformat": 4,
 "nbformat_minor": 2
}
